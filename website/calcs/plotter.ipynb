import numpy as np
import matplotlib.pyplot as plt
from mpl_toolkits.mplot3d import Axes3D
from website.calcs.inverse_kinematics import inverse_kinematics, forward_kinematics
# Define the inverse and forward kinematics functions here

# Generate a grid of points in the workspace
x = np.linspace(-200, 200, 41)
y = np.linspace(-200, 200, 41)
z = np.linspace(-200, 200, 41)
X, Y, Z = np.meshgrid(x, y, z)
points = np.vstack((X.ravel(), Y.ravel(), Z.ravel())).T

# Compute the end-effector positions for each point in the workspace
end_effector_positions = np.zeros((len(points), 3))
for i, point in enumerate(points):
    angles = inverse_kinematics(*point)
    end_effector_positions[i] = forward_kinematics(*angles)

# Plot the end-effector positions
fig = plt.figure()
ax = fig.add_subplot(111, projection='3d')
ax.scatter(end_effector_positions[:, 0], end_effector_positions[:, 1], end_effector_positions[:, 2], s=10)
ax.set_xlim([-150, 150])
ax.set_ylim([-150, 150])
ax.set_zlim([0, 250])
ax.set_xlabel('X')
ax.set_ylabel('Y')
ax.set_zlabel('Z')
plt.show()