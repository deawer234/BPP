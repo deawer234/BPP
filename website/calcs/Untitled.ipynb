{
 "cells": [
  {
   "cell_type": "code",
   "execution_count": 1,
   "id": "932547fa",
   "metadata": {},
   "outputs": [
    {
     "data": {
      "text/html": [
       "<div id=\"glowscript\" class=\"glowscript\"></div>"
      ],
      "text/plain": [
       "<IPython.core.display.HTML object>"
      ]
     },
     "metadata": {},
     "output_type": "display_data"
    },
    {
     "data": {
      "application/javascript": [
       "if (typeof Jupyter !== \"undefined\") { window.__context = { glowscript_container: $(\"#glowscript\").removeAttr(\"id\")};}else{ element.textContent = ' ';}"
      ],
      "text/plain": [
       "<IPython.core.display.Javascript object>"
      ]
     },
     "metadata": {},
     "output_type": "display_data"
    },
    {
     "data": {
      "application/javascript": [
       "if (typeof Jupyter !== \"undefined\") {require.undef(\"nbextensions/vpython_libraries/glow.min\");}else{element.textContent = ' ';}"
      ],
      "text/plain": [
       "<IPython.core.display.Javascript object>"
      ]
     },
     "metadata": {},
     "output_type": "display_data"
    },
    {
     "data": {
      "application/javascript": [
       "if (typeof Jupyter !== \"undefined\") {require.undef(\"nbextensions/vpython_libraries/glowcomm\");}else{element.textContent = ' ';}"
      ],
      "text/plain": [
       "<IPython.core.display.Javascript object>"
      ]
     },
     "metadata": {},
     "output_type": "display_data"
    },
    {
     "data": {
      "application/javascript": [
       "if (typeof Jupyter !== \"undefined\") {require.undef(\"nbextensions/vpython_libraries/jquery-ui.custom.min\");}else{element.textContent = ' ';}"
      ],
      "text/plain": [
       "<IPython.core.display.Javascript object>"
      ]
     },
     "metadata": {},
     "output_type": "display_data"
    },
    {
     "data": {
      "application/javascript": [
       "if (typeof Jupyter !== \"undefined\") {require([\"nbextensions/vpython_libraries/glow.min\"], function(){console.log(\"GLOW LOADED\");});}else{element.textContent = ' ';}"
      ],
      "text/plain": [
       "<IPython.core.display.Javascript object>"
      ]
     },
     "metadata": {},
     "output_type": "display_data"
    },
    {
     "data": {
      "application/javascript": [
       "if (typeof Jupyter !== \"undefined\") {require([\"nbextensions/vpython_libraries/glowcomm\"], function(){console.log(\"GLOWCOMM LOADED\");});}else{element.textContent = ' ';}"
      ],
      "text/plain": [
       "<IPython.core.display.Javascript object>"
      ]
     },
     "metadata": {},
     "output_type": "display_data"
    },
    {
     "data": {
      "application/javascript": [
       "if (typeof Jupyter !== \"undefined\") {require([\"nbextensions/vpython_libraries/jquery-ui.custom.min\"], function(){console.log(\"JQUERY LOADED\");});}else{element.textContent = ' ';}"
      ],
      "text/plain": [
       "<IPython.core.display.Javascript object>"
      ]
     },
     "metadata": {},
     "output_type": "display_data"
    }
   ],
   "source": [
    "from vpython import *\n",
    "from math import sin, cos, radians\n",
    "import math\n",
    "\n",
    "# Define arm parameters\n",
    "SHOULDER_LEN = 120\n",
    "ELBOW_LEN = 88\n",
    "WRIST_LEN = 124\n",
    "\n",
    "# Define initial joint angles\n",
    "theta1 = 0\n",
    "theta2 = 0\n",
    "theta3 = 0\n",
    "theta4 = 0\n",
    "\n",
    "# Define initial point to move to\n",
    "x = 211\n",
    "y = 35\n",
    "z = 50\n",
    "\n",
    "# Compute inverse kinematics for the specified point\n",
    "# ... (insert inverse kinematics code here)\n",
    "# Compute theta1 (base rotation)\n",
    "theta1 = math.atan2(y, x)\n",
    "\n",
    "# Compute wrist position in the arm's XY plane\n",
    "r_xy = math.sqrt(x**2 + y**2) - SHOULDER_LEN\n",
    "z_ = z - WRIST_LEN\n",
    "\n",
    "# Compute theta2 (shoulder joint)\n",
    "r = math.sqrt(r_xy**2 + z_**2)\n",
    "s = z_ / r\n",
    "c = r_xy / r\n",
    "alpha = math.acos((SHOULDER_LEN**2 + r**2 - ELBOW_LEN**2) / (2 * SHOULDER_LEN * r))\n",
    "theta2 = math.atan2(s, c) + alpha\n",
    "\n",
    "# Compute theta3 (elbow joint)\n",
    "beta = math.acos((SHOULDER_LEN**2 + ELBOW_LEN**2 - r**2) / (2 * SHOULDER_LEN * ELBOW_LEN))\n",
    "theta3 = math.pi - beta\n",
    "\n",
    "# Compute wrist position in the arm's YZ plane\n",
    "wx__ = x - SHOULDER_LEN * math.cos(theta1) * math.cos(theta2) - ELBOW_LEN * math.cos(theta1) * math.cos(theta2 + theta3)\n",
    "wy__ = y - SHOULDER_LEN * math.sin(theta1) * math.cos(theta2) - ELBOW_LEN * math.sin(theta1) * math.cos(theta2 + theta3)\n",
    "wz__ = z - SHOULDER_LEN * math.sin(theta2) - ELBOW_LEN * math.sin(theta2 + theta3)\n",
    "\n",
    "# Compute theta4 (wrist joint)\n",
    "theta4 = math.atan2(wz__, math.sqrt(wx__**2 + wy__**2)) - math.atan2(WRIST_LEN * math.sin(theta2 + theta3), SHOULDER_LEN + ELBOW_LEN * math.cos(theta2 + theta3))\n",
    "\n",
    "\n",
    "# Define arm segments\n",
    "shoulder = cylinder(pos=vector(0, 0, 0), axis=vector(0, SHOULDER_LEN, 0), radius=10)\n",
    "upper_arm = cylinder(pos=vector(0, SHOULDER_LEN, 0), axis=vector(0, 0, 0), radius=10)\n",
    "elbow = sphere(pos=vector(0, SHOULDER_LEN, 0), radius=10)\n",
    "forearm = cylinder(pos=vector(0, SHOULDER_LEN, 0), axis=vector(0, 0, 0), radius=10)\n",
    "wrist = sphere(pos=vector(x, y, z), radius=10)\n",
    "\n",
    "# Set positions and orientations of arm segments based on joint angles\n",
    "shoulder.axis = vector(SHOULDER_LEN*cos(radians(theta1)), SHOULDER_LEN*sin(radians(theta1)), 0)\n",
    "upper_arm.pos = shoulder.pos + vector(0, SHOULDER_LEN, 0)\n",
    "upper_arm.axis = elbow.pos - upper_arm.pos\n",
    "elbow.pos = upper_arm.pos + vector(ELBOW_LEN*cos(radians(theta2)), ELBOW_LEN*sin(radians(theta2)), 0)\n",
    "forearm.pos = elbow.pos\n",
    "forearm.axis = wrist.pos - elbow.pos\n",
    "wrist.pos = elbow.pos + vector(WRIST_LEN*cos(radians(theta2+theta3)), WRIST_LEN*sin(radians(theta2+theta3)), z)\n",
    "\n",
    "# Show arm segments in scene\n",
    "scene.center = vector(x/2, y/2 + SHOULDER_LEN/2, z/2)\n",
    "scene.autoscale = False"
   ]
  },
  {
   "cell_type": "code",
   "execution_count": null,
   "id": "b71230bb",
   "metadata": {},
   "outputs": [],
   "source": []
  },
  {
   "cell_type": "code",
   "execution_count": null,
   "id": "c74a90ff",
   "metadata": {},
   "outputs": [],
   "source": []
  },
  {
   "cell_type": "code",
   "execution_count": null,
   "id": "ccce1481",
   "metadata": {},
   "outputs": [],
   "source": []
  },
  {
   "cell_type": "code",
   "execution_count": null,
   "id": "d7b6b348",
   "metadata": {},
   "outputs": [],
   "source": []
  },
  {
   "cell_type": "code",
   "execution_count": null,
   "id": "47f1c973",
   "metadata": {},
   "outputs": [],
   "source": []
  },
  {
   "cell_type": "code",
   "execution_count": null,
   "id": "faad7095",
   "metadata": {},
   "outputs": [],
   "source": []
  }
 ],
 "metadata": {
  "kernelspec": {
   "display_name": "Python 3",
   "language": "python",
   "name": "python3"
  },
  "language_info": {
   "codemirror_mode": {
    "name": "ipython",
    "version": 3
   },
   "file_extension": ".py",
   "mimetype": "text/x-python",
   "name": "python",
   "nbconvert_exporter": "python",
   "pygments_lexer": "ipython3",
   "version": "3.8.10"
  }
 },
 "nbformat": 4,
 "nbformat_minor": 5
}
